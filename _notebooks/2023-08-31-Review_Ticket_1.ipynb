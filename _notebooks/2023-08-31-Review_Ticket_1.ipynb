{
 "cells": [
  {
   "cell_type": "code",
   "execution_count": null,
   "metadata": {},
   "outputs": [],
   "source": [
    "---\n",
    "toc: True\n",
    "comments: true\n",
    "layout: post\n",
    "title: Review Ticket Week 0\n",
    "description: This is a review of everything learned in week 0\n",
    "type: tangibles\n",
    "courses: { compsci: {week: 0} }\n",
    "categories: [C4.1]\n",
    "---"
   ]
  },
  {
   "cell_type": "markdown",
   "metadata": {},
   "source": [
    "## All Useful Commands\n",
    ">>cd - enter new directory <br>\n",
    ">>ls - list in directory<br>\n",
    ">>mkdir - make directory<br>\n",
    ">>make - make local server<br>\n",
    ">>make clean - clean converted files\n",
    ">>pwd - print working directory <br>\n",
    ">>echo - used to display line of text/string that are passed as an argument<br>\n",
    ">>if statements - (conditional statement, called selection statement by College Board), code inside only happens if condition is met <br>"
   ]
  },
  {
   "cell_type": "markdown",
   "metadata": {},
   "source": [
    "## Markdown Code\n",
    ">>br - break line<br>\n",
    ">>\"#\" - title<br>\n",
    ">>\">\" - indent"
   ]
  },
  {
   "cell_type": "markdown",
   "metadata": {},
   "source": [
    "<img alt=\"week0\" src=\"{{site.baseurl}}/images/screenshot0.png\" title=\"week0\" width=\"1000\" length=\"1000\">"
   ]
  }
 ],
 "metadata": {
  "language_info": {
   "name": "python"
  },
  "orig_nbformat": 4
 },
 "nbformat": 4,
 "nbformat_minor": 2
}
