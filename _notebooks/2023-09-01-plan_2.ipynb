{
 "cells": [
  {
   "cell_type": "code",
   "execution_count": null,
   "metadata": {},
   "outputs": [],
   "source": [
    "---\n",
    "layout: post\n",
    "title: Daily Plan Week 2\n",
    "description: Daily Plan for Week 2\n",
    "toc: true\n",
    "comments: true\n",
    "categories: [5.A, C4.1]\n",
    "courses: { compsci: {week: 2} }\n",
    "type: plans\n",
    "---"
   ]
  },
  {
   "cell_type": "markdown",
   "metadata": {},
   "source": [
    "## Daily Plan\n",
    "1. Make Lab Notebook rows/columns for each week 0, 1, 2.  Make a hack (IPYNB) and review/exit ticket for each row.   Review student page as guide https://nighthawkcoders.github.io/student/compsci<br>\n",
    "2. Get  my github.io public site running.  This will work after GitHub sync.  Here are some key references for GitHub: https://nighthawkcoders.github.io/student/2023/08/26/GitHub_Sync.html<br>\n",
    "3. Work on revising my IPYNB file(s) and add in my required Hacks.  Learn how to do  “Code Fencing”, “Code Cells”.  Revise  Linux Shell  IPYNB, prune and perform hacks to match my understanding.<br>\n",
    "4. Revise Home Page to only be a Lab Notebook Cover sheet<br>\n",
    "5. Work on adding a Project"
   ]
  }
 ],
 "metadata": {
  "language_info": {
   "name": "python"
  },
  "orig_nbformat": 4
 },
 "nbformat": 4,
 "nbformat_minor": 2
}
