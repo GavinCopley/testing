{
 "cells": [
  {
   "cell_type": "code",
   "execution_count": null,
   "metadata": {},
   "outputs": [],
   "source": [
    "---\n",
    "layout: post\n",
    "title: Review Ticket Week 6\n",
    "description: This is a review of everything learned in week 6\n",
    "toc: true\n",
    "comments: true\n",
    "courses: { compsci: {week: 6} }\n",
    "type: tangibles\n",
    "---"
   ]
  },
  {
   "cell_type": "markdown",
   "metadata": {},
   "source": [
    "## How to Start Every HTML Project"
   ]
  },
  {
   "cell_type": "code",
   "execution_count": null,
   "metadata": {
    "vscode": {
     "languageId": "html"
    }
   },
   "outputs": [],
   "source": [
    "%%html\n",
    "<html>\n",
    "    <head>\n",
    "        <style>\n",
    "        \n",
    "        </style>\n",
    "    </head>\n",
    "    <body>\n",
    "        \n",
    "    </body>\n",
    "</html>"
   ]
  },
  {
   "cell_type": "markdown",
   "metadata": {},
   "source": [
    "## Important HTML Tags and Attributes"
   ]
  },
  {
   "cell_type": "code",
   "execution_count": 1,
   "metadata": {
    "vscode": {
     "languageId": "html"
    }
   },
   "outputs": [
    {
     "data": {
      "text/html": [
       "<table>\n",
       "  <tr>\n",
       "    <th>Tags</th>\n",
       "    <th>Attributes</th>\n",
       "  </tr>\n",
       "  <tr>\n",
       "    <td>a  -- combined with the href attribute to make a hyperlink</td>\n",
       "    <td>href  -- used to add a hyperlink to the a tag</td>\n",
       "  </tr>\n",
       "  <tr>\n",
       "    <td>div  -- can be used to create a class</td>\n",
       "    <td>id  -- used to identify certain tags</td>\n",
       "  </tr>\n",
       "  <tr>\n",
       "    <td> </td>\n",
       "    <td>class  -- used to identify div</td>\n",
       "  </tr>\n",
       "</table>\n"
      ],
      "text/plain": [
       "<IPython.core.display.HTML object>"
      ]
     },
     "metadata": {},
     "output_type": "display_data"
    }
   ],
   "source": [
    "%%html\n",
    "<table>\n",
    "  <tr>\n",
    "    <th>Tags</th>\n",
    "    <th>Attributes</th>\n",
    "  </tr>\n",
    "  <tr>\n",
    "    <td>a  -- combined with the href attribute to make a hyperlink</td>\n",
    "    <td>href  -- used to add a hyperlink to the a tag</td>\n",
    "  </tr>\n",
    "  <tr>\n",
    "    <td>div  -- can be used to create a class</td>\n",
    "    <td>id  -- used to identify certain tags</td>\n",
    "  </tr>\n",
    "  <tr>\n",
    "    <td> </td>\n",
    "    <td>class  -- used to identify div</td>\n",
    "  </tr>\n",
    "</table>"
   ]
  },
  {
   "cell_type": "code",
   "execution_count": 3,
   "metadata": {
    "vscode": {
     "languageId": "html"
    }
   },
   "outputs": [
    {
     "data": {
      "text/html": [
       "<p>All of the links for the Web Programming Basics notebook</p>\n",
       "<a href=\"https://gavincopley.github.io/GavinCopley/basics/html\">Home</a> <br>\n",
       "<a href=\"https://gavincopley.github.io/GavinCopley/basics/html\">HTML Basics</a> <br>\n",
       "<a href=\"https://gavincopley.github.io/GavinCopley/basics/html\">JS Data Types</a> <br>\n",
       "<a href=\"https://gavincopley.github.io/GavinCopley/basics/html\">DOM</a> <br>\n",
       "<a href=\"https://gavincopley.github.io/GavinCopley/basics/html\">Java Script</a> <br>\n",
       "<a href=\"https://gavincopley.github.io/GavinCopley/basics/html\">JS Debugging</a>\n"
      ],
      "text/plain": [
       "<IPython.core.display.HTML object>"
      ]
     },
     "metadata": {},
     "output_type": "display_data"
    }
   ],
   "source": [
    "%%html\n",
    "<p>All of the links for the Web Programming Basics notebook</p>\n",
    "<a href=\"https://gavincopley.github.io/GavinCopley/basics/html\">Home</a> <br>\n",
    "<a href=\"https://gavincopley.github.io/GavinCopley/basics/html\">HTML Basics</a> <br>\n",
    "<a href=\"https://gavincopley.github.io/GavinCopley/basics/html\">JS Data Types</a> <br>\n",
    "<a href=\"https://gavincopley.github.io/GavinCopley/basics/html\">DOM</a> <br>\n",
    "<a href=\"https://gavincopley.github.io/GavinCopley/basics/html\">Java Script</a> <br>\n",
    "<a href=\"https://gavincopley.github.io/GavinCopley/basics/html\">JS Debugging</a>"
   ]
  },
  {
   "cell_type": "code",
   "execution_count": 1,
   "metadata": {
    "vscode": {
     "languageId": "html"
    }
   },
   "outputs": [
    {
     "data": {
      "text/html": [
       "<table>\n",
       "  <tr>\n",
       "    <th>Grader</th>\n",
       "    <th>Total Score</th>\n",
       "  </tr>\n",
       "  <tr>\n",
       "    <td>John</td>\n",
       "    <td>asd/4</td>\n",
       "  </tr>\n",
       "  <tr>\n",
       "    <td>Ian</td>\n",
       "    <td>asd/4</td>\n",
       "  </tr>\n",
       "  <tr>\n",
       "    <td>Matthew</td>\n",
       "    <td>asd/4</td>\n",
       "  </tr>\n",
       "</table>\n"
      ],
      "text/plain": [
       "<IPython.core.display.HTML object>"
      ]
     },
     "metadata": {},
     "output_type": "display_data"
    }
   ],
   "source": [
    "%%html\n",
    "<table>\n",
    "  <tr>\n",
    "    <th>Grader</th>\n",
    "    <th>Total Score</th>\n",
    "  </tr>\n",
    "  <tr>\n",
    "    <td>John</td>\n",
    "    <td>4.48/5</td>\n",
    "  </tr>\n",
    "  <tr>\n",
    "    <td>Ian</td>\n",
    "    <td>asd/4</td>\n",
    "  </tr>\n",
    "  <tr>\n",
    "    <td>Matthew</td>\n",
    "    <td>asd/4</td>\n",
    "  </tr>\n",
    "</table>"
   ]
  },
  {
   "cell_type": "markdown",
   "metadata": {},
   "source": []
  },
  {
   "cell_type": "markdown",
   "metadata": {},
   "source": [
    "<br>\n",
    "<br>"
   ]
  },
  {
   "cell_type": "markdown",
   "metadata": {},
   "source": [
    "## Image of Time Box After Week 6\n",
    "<br>"
   ]
  },
  {
   "cell_type": "markdown",
   "metadata": {},
   "source": [
    "<img alt=\"week6\" src=\"{{site.baseurl}}/images/week6.png\" title=\"week6\" width=\"1000\" length=\"1000\">"
   ]
  }
 ],
 "metadata": {
  "kernelspec": {
   "display_name": "Python 3",
   "language": "python",
   "name": "python3"
  },
  "language_info": {
   "codemirror_mode": {
    "name": "ipython",
    "version": 3
   },
   "file_extension": ".py",
   "mimetype": "text/x-python",
   "name": "python",
   "nbconvert_exporter": "python",
   "pygments_lexer": "ipython3",
   "version": "3.10.12"
  },
  "orig_nbformat": 4
 },
 "nbformat": 4,
 "nbformat_minor": 2
}
