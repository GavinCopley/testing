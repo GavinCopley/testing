{
 "cells": [
  {
   "cell_type": "code",
   "execution_count": null,
   "metadata": {},
   "outputs": [],
   "source": [
    "---\n",
    "toc: false\n",
    "layout: post\n",
    "title: Resources Used\n",
    "description: Resources that I used\n",
    "courses: { compsci: {week: 12} }\n",
    "type: hacks\n",
    "---"
   ]
  },
  {
   "cell_type": "markdown",
   "metadata": {},
   "source": [
    "{% include nav_sharedGame.html %}"
   ]
  },
  {
   "cell_type": "markdown",
   "metadata": {},
   "source": [
    "- Use of ChatGPT\n",
    "- Use of a guiding tutorial (<a href=\"https://www.youtube.com/watch?v=4q2vvZn5aoo\">Here</a>)\n",
    "- Use of various code teaching websites such as <a href=\"https://w3schools.com\">w3schools</a>\n",
    "- Help of friends\n",
    "- Help of teammates\n",
    "- Help from teacher\n",
    "- Help from TAs\n",
    "- Used Pixilart to create images"
   ]
  },
  {
   "cell_type": "markdown",
   "metadata": {},
   "source": [
    "<img alt=\"roadpng\" src=\"{{site.baseurl}}/images/road.png\" title=\"roadpng\" width=\"500\" length=\"500\">"
   ]
  },
  {
   "cell_type": "markdown",
   "metadata": {},
   "source": [
    "<img alt=\"backgroundpng\" src=\"{{site.baseurl}}/images/background.png\" title=\"backgroundpng\" width=\"500\" length=\"500\">"
   ]
  },
  {
   "cell_type": "markdown",
   "metadata": {},
   "source": [
    "<img alt=\"buildingpng\" src=\"{{site.baseurl}}/images/building.png\" title=\"buildingpng\" width=\"500\" length=\"500\">"
   ]
  },
  {
   "cell_type": "markdown",
   "metadata": {},
   "source": [
    "<img alt=\"spriteLeft\" src=\"{{site.baseurl}}/images/spriteLeft.png\" title=\"leftsprite\" width=\"500\" length=\"500\">"
   ]
  },
  {
   "cell_type": "markdown",
   "metadata": {},
   "source": [
    "<img alt=\"spriteRight\" src=\"{{site.baseurl}}/images/spriteRight.png\" title=\"rightsprite\" width=\"500\" length=\"500\">"
   ]
  },
  {
   "cell_type": "markdown",
   "metadata": {},
   "source": [
    "<img alt=\"roadpng\" src=\"{{site.baseurl}}/assets/js/img/road.png\" title=\"roadpng\" width=\"500\" length=\"500\">"
   ]
  }
 ],
 "metadata": {
  "language_info": {
   "name": "python"
  },
  "orig_nbformat": 4
 },
 "nbformat": 4,
 "nbformat_minor": 2
}
