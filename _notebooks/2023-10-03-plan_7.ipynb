{
 "cells": [
  {
   "cell_type": "code",
   "execution_count": null,
   "metadata": {},
   "outputs": [],
   "source": [
    "---\n",
    "layout: post\n",
    "title: Daily Plan Week 7\n",
    "description: Daily Plan for Week 7\n",
    "toc: true\n",
    "comments: true\n",
    "courses: { compsci: {week: 7} }\n",
    "type: plans\n",
    "---"
   ]
  },
  {
   "cell_type": "markdown",
   "metadata": {},
   "source": [
    "## Week 7 Plan\n",
    "- M - Live Grading - Web Programming Basics\n",
    "- Tu - JS Mario Game Overview\n",
    "- W - Work Day, Ideation and Planning Tools\n",
    "- Th - Work Day\n",
    "- F - Ideation Live Review"
   ]
  }
 ],
 "metadata": {
  "language_info": {
   "name": "python"
  },
  "orig_nbformat": 4
 },
 "nbformat": 4,
 "nbformat_minor": 2
}
