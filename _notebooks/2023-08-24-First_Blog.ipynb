{
 "cells": [
  {
   "cell_type": "markdown",
   "metadata": {},
   "source": [
    "---\n",
    "layout: post\n",
    "title: First Blog\n",
    "description: My first blog! I will be discussing how to make a blog easily.\n",
    "toc: true\n",
    "comments: true\n",
    "courses: { compsci: {week: 1} }\n",
    "type: hacks\n",
    "---"
   ]
  },
  {
   "cell_type": "markdown",
   "metadata": {},
   "source": [
    "## Make the file\n",
    "> The very first step is making the file that your blog will be in. I did this by right clicking on the \"_notebooks\" folder in vscode and clicking the button to create a new file. Here I named it today's date, the blog name, and the file type (ipynb)."
   ]
  },
  {
   "cell_type": "markdown",
   "metadata": {},
   "source": [
    "## Set it up\n",
    "> Add the following code to a python cell at the top of the page:\n",
    "<br>\n",
    "\"---\n",
    "layout: post\n",
    "title: title\n",
    "description: description\n",
    "toc: true\n",
    "comments: true\n",
    "categories: [5.A, C4.1]\n",
    "courses: { csse: {week: 1}, csp: {week: 1, categories: [6.B]}, csa: {week: 1} }\n",
    "type: devops\n",
    "---\""
   ]
  },
  {
   "cell_type": "markdown",
   "metadata": {},
   "source": [
    "## Do whatever!\n",
    "> After I had completed the previous steps, I can now do whatever I want. I can write anything that I need whenever I want.\n",
    "Things I learned:<br>\n",
    "\">\" = indent<br>\n",
    "\"#\" = title (more #s make the title smaller)<br>\n",
    "\"br\" = line break<br>\n"
   ]
  }
 ],
 "metadata": {
  "kernelspec": {
   "display_name": "Python 3",
   "language": "python",
   "name": "python3"
  },
  "language_info": {
   "name": "python",
   "version": "3.10.12"
  },
  "orig_nbformat": 4
 },
 "nbformat": 4,
 "nbformat_minor": 2
}
