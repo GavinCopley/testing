{
 "cells": [
  {
   "cell_type": "code",
   "execution_count": null,
   "metadata": {},
   "outputs": [],
   "source": [
    "---\n",
    "toc: True\n",
    "comments: true\n",
    "layout: post\n",
    "title: Review Ticket Week 2\n",
    "description: This is a review of everything learned in week 2\n",
    "type: tangibles\n",
    "courses: { compsci: {week: 2} }\n",
    "categories: [C4.1]\n",
    "---"
   ]
  },
  {
   "cell_type": "markdown",
   "metadata": {},
   "source": [
    "## How to make an image\n",
    ">Use this template (make sure to add  < >): <br>\n",
    "- img alt=\"example\" src=\"{{site.baseurl}}/images/example.png\" title=\"anything\" width=\"250\" length=\"250\""
   ]
  },
  {
   "cell_type": "markdown",
   "metadata": {},
   "source": [
    "## Example of Markdown Table\n",
    "\n",
    "|Dog  |Cat  |Not Dog or Cat  |\n",
    "|---|----|---|\n",
    "|Pug  |Russian Blue  |Cheetah  |\n",
    "|German Shepard  |British Short-hair  |Elephant  |"
   ]
  },
  {
   "cell_type": "markdown",
   "metadata": {},
   "source": [
    "<img alt=\"week2\" src=\"{{site.baseurl}}/images/screenshot2.png\" title=\"week2\" width=\"1000\" length=\"1000\">"
   ]
  }
 ],
 "metadata": {
  "language_info": {
   "name": "python"
  },
  "orig_nbformat": 4
 },
 "nbformat": 4,
 "nbformat_minor": 2
}
