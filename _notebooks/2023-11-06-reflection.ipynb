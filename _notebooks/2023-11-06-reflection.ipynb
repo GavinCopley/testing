{
 "cells": [
  {
   "cell_type": "code",
   "execution_count": null,
   "metadata": {},
   "outputs": [],
   "source": [
    "---\n",
    "toc: false\n",
    "layout: post\n",
    "title: Reflection\n",
    "description: Individual Reflection\n",
    "courses: { compsci: {week: 12} }\n",
    "type: hacks\n",
    "---"
   ]
  },
  {
   "cell_type": "markdown",
   "metadata": {},
   "source": [
    "{% include nav_sharedGame.html %}"
   ]
  },
  {
   "cell_type": "markdown",
   "metadata": {},
   "source": [
    "## From The Beginning...\n",
    "- I have learned a lot since the start of this tri to the end. When I started this class, I did not know a single thing about coding. All I knew is that coding had a bunch of funky looking English that tells the computer to do things. I didn't know how intricate and difficult it was. I am proud to say that I can do the basics and I have somewhat of an idea of how it works and what to do."
   ]
  },
  {
   "cell_type": "markdown",
   "metadata": {},
   "source": [
    "## Challenges I Faced\n",
    "- I faced many challenges on this journey of a project. OOP (object orientated programming) is very complex yet simple at the same time. Learning it was difficult, and since it is the basis of the game, this was a large obstacle. However, over time I managed to figure it out and at the end we have a working game.\n",
    "- I also had issues with implementing the images, as using imports and other methods did not work. Eventually however, I managed to find a solution."
   ]
  },
  {
   "cell_type": "markdown",
   "metadata": {},
   "source": [
    "## Learnings To Take Away\n",
    "- I learned the basics of html, js, and css. This basis will help me learn more coding languages as they are all connected in some way or another. I have found that coding is mostly problem solving, as usually the solution is simple but hard to find. I will continue to use this github repository for future classes and personal endeavors. Although I may not have mastered js, I feel confident that I can do basic functions and commands. Making objects, putting them into arrays, and inputting data into said objects is something I will need to remember for my future of coding if I decide to pursue it further."
   ]
  },
  {
   "cell_type": "markdown",
   "metadata": {},
   "source": [
    "## Goals For The Future\n",
    "- I intend to manage my time better to commit more time to learning and developing my skills in coding, as I enjoy coding things and working on projects. In trimester 2, I intend to become adept at coding and I wish to become more proficient at writing and less reliant on the internet for help. I also want to learn how to use multiple different js files and use imports and such. For the project my group and I were doing, imports and exports weren't really needed and they were more of a hassle than a benefit, but for future projects they seem like they would be of importance. In trimester 2 I'm not sure what exactly I want to learn, but I kind of want to learn how to make my own website. A game is very fun to make and is a good introduction into OOP, however I would really like to learn how to make a good looking website with tons of functionality."
   ]
  },
  {
   "cell_type": "markdown",
   "metadata": {},
   "source": [
    "## The Conclusion\n",
    "- Overall, this class has been very fun to work with. There has been a large amount of time dedicated into this class on my behalf and it has been very fun. I do wish there was less outside work as I have 4 other classes that I need to keep up with, but this class has been an overall positive. I'm proud of what I have accomplished and I'm proud that my team and I have come out with a product worth looking at."
   ]
  }
 ],
 "metadata": {
  "language_info": {
   "name": "python"
  },
  "orig_nbformat": 4
 },
 "nbformat": 4,
 "nbformat_minor": 2
}
