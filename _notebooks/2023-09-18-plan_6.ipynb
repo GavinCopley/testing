{
 "cells": [
  {
   "cell_type": "code",
   "execution_count": null,
   "metadata": {},
   "outputs": [],
   "source": [
    "---\n",
    "layout: post\n",
    "title: Daily Plan Week 6\n",
    "description: Daily Plan for Week 6\n",
    "toc: true\n",
    "comments: true\n",
    "courses: { compsci: {week: 6} }\n",
    "type: plans\n",
    "---"
   ]
  },
  {
   "cell_type": "markdown",
   "metadata": {},
   "source": [
    "## Plans\n"
   ]
  }
 ],
 "metadata": {
  "language_info": {
   "name": "python"
  },
  "orig_nbformat": 4
 },
 "nbformat": 4,
 "nbformat_minor": 2
}
